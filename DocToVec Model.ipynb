{
 "cells": [
  {
   "cell_type": "code",
   "execution_count": 1,
   "metadata": {},
   "outputs": [],
   "source": [
    "import numpy as np\n",
    "import pandas as pd\n",
    "import string\n",
    "import re\n",
    "import matplotlib.pyplot as plt\n",
    "%matplotlib inline\n",
    "\n",
    "import gensim"
   ]
  },
  {
   "cell_type": "code",
   "execution_count": 8,
   "metadata": {},
   "outputs": [],
   "source": [
    "X_train = pd.read_csv(\"X_train.csv\")\n",
    "X_test = pd.read_csv(\"X_test.csv\")\n",
    "y_train = pd.read_csv(\"y_train.csv\")\n",
    "y_test = pd.read_csv(\"y_test.csv\")"
   ]
  },
  {
   "cell_type": "code",
   "execution_count": 9,
   "metadata": {},
   "outputs": [],
   "source": [
    "# Created TaggedDocument vectors for each text message in the training and test sets\n",
    "tagged_docs_train = [gensim.models.doc2vec.TaggedDocument(v, [i])\n",
    "                     for i, v in enumerate(X_train['clean_text'])]\n",
    "tagged_docs_test = [gensim.models.doc2vec.TaggedDocument(v, [i])\n",
    "                    for i, v in enumerate(X_test['clean_text'])]"
   ]
  },
  {
   "cell_type": "code",
   "execution_count": 10,
   "metadata": {},
   "outputs": [
    {
     "data": {
      "text/plain": [
       "[TaggedDocument(words=\"['ok', 'u', 'can', 'take', 'me', 'shop', 'when', 'u', 'get', 'paid', 'd']\", tags=[0]),\n",
       " TaggedDocument(words=\"['tomorrow', 'i', 'am', 'not', 'go', 'to', 'theatr', 'so', 'i', 'can', 'come', 'wherev', 'u', 'call', 'me', 'tell', 'me', 'where', 'and', 'when', 'to', 'come', 'tomorrow']\", tags=[1]),\n",
       " TaggedDocument(words=\"['jason', 'say', 'it', 'cool', 'if', 'we', 'pick', 'some', 'up', 'from', 'hi', 'place', 'in', 'like', 'an', 'hour']\", tags=[2]),\n",
       " TaggedDocument(words=\"['i', 'wud', 'never', 'mind', 'if', 'u', 'dont', 'miss', 'me', 'or', 'if', 'u', 'dont', 'need', 'me', 'but', 'u', 'wil', 'realli', 'hurt', 'me', 'wen', 'u', 'need', 'me', 'amp', 'u', 'dont', 'tell', 'me', 'take', 'care']\", tags=[3]),\n",
       " TaggedDocument(words=\"['smile', 'in', 'pleasur', 'smile', 'in', 'pain', 'smile', 'when', 'troubl', 'pour', 'like', 'rain', 'smile', 'when', 'sum1', 'hurt', 'u', 'smile', 'becoz', 'someon', 'still', 'love', 'to', 'see', 'u', 'smile']\", tags=[4]),\n",
       " TaggedDocument(words=\"['you', 'have', 'won', 'a', 'nokia', '7250i', 'thi', 'is', 'what', 'you', 'get', 'when', 'you', 'win', 'our', 'free', 'auction', 'to', 'take', 'part', 'send', 'nokia', 'to', '86021', 'now', 'hgsuite3422land', 'roww1jhl', '16']\", tags=[5]),\n",
       " TaggedDocument(words=\"['lord', 'of', 'the', 'ringsreturn', 'of', 'the', 'king', 'in', 'store', 'nowrepli', 'lotr', 'by', '2', 'june', '4', 'chanc', '2', 'win', 'lotr', 'soundtrack', 'cd', 'stdtxtrate', 'repli', 'stop', 'to', 'end', 'txt']\", tags=[6]),\n",
       " TaggedDocument(words=\"['i', 'did', 'one', 'slice', 'and', 'one', 'breadstick', 'lol']\", tags=[7]),\n",
       " TaggedDocument(words=\"['night', 'ha', 'end', 'for', 'anoth', 'day', 'morn', 'ha', 'come', 'in', 'a', 'special', 'way', 'may', 'you', 'smile', 'like', 'the', 'sunni', 'ray', 'and', 'leav', 'your', 'worri', 'at', 'the', 'blue', 'blue', 'bay', 'gud', 'mrng']\", tags=[8]),\n",
       " TaggedDocument(words=\"['yup', 'ok']\", tags=[9])]"
      ]
     },
     "execution_count": 10,
     "metadata": {},
     "output_type": "execute_result"
    }
   ],
   "source": [
    "tagged_docs_train[:10]"
   ]
  },
  {
   "cell_type": "code",
   "execution_count": 11,
   "metadata": {},
   "outputs": [],
   "source": [
    "# Train a basic doc2vec model\n",
    "d2v_model = gensim.models.Doc2Vec(tagged_docs_train,\n",
    "                                  vector_size=100,\n",
    "                                  window=5,\n",
    "                                  min_count=2)"
   ]
  },
  {
   "cell_type": "code",
   "execution_count": 12,
   "metadata": {},
   "outputs": [],
   "source": [
    "# Infer the vectors to be used in training and testing\n",
    "train_vectors = [d2v_model.infer_vector(eval(v.words)) for v in tagged_docs_train]\n",
    "test_vectors = [d2v_model.infer_vector(eval(v.words)) for v in tagged_docs_test]   "
   ]
  },
  {
   "cell_type": "code",
   "execution_count": 13,
   "metadata": {},
   "outputs": [
    {
     "name": "stderr",
     "output_type": "stream",
     "text": [
      "C:\\Users\\DELL\\Anaconda3\\lib\\site-packages\\sklearn\\ensemble\\forest.py:245: FutureWarning: The default value of n_estimators will change from 10 in version 0.20 to 100 in 0.22.\n",
      "  \"10 in version 0.20 to 100 in 0.22.\", FutureWarning)\n"
     ]
    },
    {
     "name": "stdout",
     "output_type": "stream",
     "text": [
      "Precision: 0.678 / Recall: 0.282 / Accuracy: 0.891\n"
     ]
    }
   ],
   "source": [
    "# Fit a basic model, make predictions on the holdout test set, and the generate the evaluation metrics\n",
    "from sklearn.ensemble import RandomForestClassifier\n",
    "from sklearn.metrics import precision_score, recall_score\n",
    "\n",
    "rf = RandomForestClassifier()\n",
    "rf_model = rf.fit(train_vectors, y_train.values.ravel())\n",
    "\n",
    "y_pred = rf_model.predict(test_vectors)\n",
    "\n",
    "precision = precision_score(y_test, y_pred)\n",
    "recall = recall_score(y_test, y_pred)\n",
    "print('Precision: {} / Recall: {} / Accuracy: {}'.format(\n",
    "    round(precision, 3), round(recall, 3), round((y_pred==y_test['label']).sum()/len(y_pred), 3)))"
   ]
  },
  {
   "cell_type": "code",
   "execution_count": 17,
   "metadata": {},
   "outputs": [
    {
     "name": "stderr",
     "output_type": "stream",
     "text": [
      "C:\\Users\\DELL\\Anaconda3\\lib\\site-packages\\sklearn\\preprocessing\\label.py:252: DataConversionWarning: A column-vector y was passed when a 1d array was expected. Please change the shape of y to (n_samples, ), for example using ravel().\n",
      "  y = column_or_1d(y, warn=True)\n"
     ]
    },
    {
     "name": "stdout",
     "output_type": "stream",
     "text": [
      "Accuracy: 88.88%\n"
     ]
    },
    {
     "data": {
      "image/png": "[encoded data removed]",
      "text/plain": [
       "<Figure size 432x288 with 1 Axes>"
      ]
     },
     "metadata": {
      "needs_background": "light"
     },
     "output_type": "display_data"
    }
   ],
   "source": [
    "from xgboost import XGBClassifier\n",
    "from sklearn.metrics import accuracy_score,precision_score,recall_score\n",
    "\n",
    "model = XGBClassifier()\n",
    "eval_set = [(np.array(train_vectors), y_train.values.ravel()), (np.array(test_vectors), y_test)]\n",
    "model.fit(np.array(train_vectors), y_train.values.ravel(), eval_metric=[\"error\", \"logloss\"], eval_set=eval_set, verbose= 0)\n",
    "\n",
    "predictions = model.predict(np.array(test_vectors))\n",
    "accuracy = accuracy_score(y_test, predictions)\n",
    "print(\"Accuracy: %.2f%%\" % (accuracy * 100.0))\n",
    "\n",
    "results = model.evals_result()\n",
    "epochs = len(results['validation_0']['error'])\n",
    "x_axis = range(0, epochs)\n",
    "\n",
    "# plot log loss\n",
    "fig, ax = plt.subplots()\n",
    "ax.plot(x_axis, results['validation_0']['logloss'], label='Train')\n",
    "ax.plot(x_axis, results['validation_1']['logloss'], label='Test')\n",
    "ax.legend()\n",
    "plt.ylabel('Log Loss')\n",
    "plt.title('XGBoost Log Loss')\n",
    "plt.show()"
   ]
  },
  {
   "cell_type": "code",
   "execution_count": 19,
   "metadata": {},
   "outputs": [
    {
     "name": "stdout",
     "output_type": "stream",
     "text": [
      "Precision: 0.625, Recall: 0.31690140845070425, Accuracy: 0.8887892376681614\n"
     ]
    }
   ],
   "source": [
    "XbgCls_1 = XGBClassifier()\n",
    "model_1 = XbgCls_1.fit(np.array(train_vectors), y_train.values.ravel())\n",
    "ypred = model_1.predict(np.array(test_vectors))\n",
    "precision = precision_score(y_test,ypred)\n",
    "recall = recall_score(y_test,ypred)\n",
    "accuracy = accuracy_score(y_test,ypred)\n",
    "print(f\"Precision: {precision}, Recall: {recall}, Accuracy: {accuracy}\")"
   ]
  },
  {
   "cell_type": "code",
   "execution_count": null,
   "metadata": {},
   "outputs": [],
   "source": []
  }
 ],
 "metadata": {
  "kernelspec": {
   "display_name": "Python 3.7.4 64-bit ('base': conda)",
   "language": "python",
   "name": "python37464bitbasecondaa573941c101e496e993423501ebafa10"
  },
  "language_info": {
   "codemirror_mode": {
    "name": "ipython",
    "version": 3
   },
   "file_extension": ".py",
   "mimetype": "text/x-python",
   "name": "python",
   "nbconvert_exporter": "python",
   "pygments_lexer": "ipython3",
   "version": "3.7.4"
  }
 },
 "nbformat": 4,
 "nbformat_minor": 2
}
