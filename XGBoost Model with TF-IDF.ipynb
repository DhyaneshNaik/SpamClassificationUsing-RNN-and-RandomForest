{
 "cells": [
  {
   "cell_type": "code",
   "execution_count": 1,
   "metadata": {},
   "outputs": [],
   "source": [
    "import numpy as np\n",
    "import pandas as pd\n",
    "import string\n",
    "import re\n",
    "import matplotlib.pyplot as plt\n",
    "%matplotlib inline\n",
    "\n",
    "from sklearn.feature_extraction.text import TfidfVectorizer\n",
    "from sklearn.metrics import accuracy_score,precision_score,recall_score"
   ]
  },
  {
   "cell_type": "code",
   "execution_count": 2,
   "metadata": {},
   "outputs": [],
   "source": [
    "X_train = pd.read_csv(\"X_train.csv\")\n",
    "X_test = pd.read_csv(\"X_test.csv\")\n",
    "y_train = pd.read_csv(\"y_train.csv\")\n",
    "y_test = pd.read_csv(\"y_test.csv\")"
   ]
  },
  {
   "cell_type": "code",
   "execution_count": 3,
   "metadata": {},
   "outputs": [
    {
     "data": {
      "text/plain": [
       "TfidfVectorizer(analyzer='word', binary=False, decode_error='strict',\n",
       "                dtype=<class 'numpy.float64'>, encoding='utf-8',\n",
       "                input='content', lowercase=True, max_df=1.0, max_features=None,\n",
       "                min_df=1, ngram_range=(1, 1), norm='l2', preprocessor=None,\n",
       "                smooth_idf=True, stop_words=None, strip_accents=None,\n",
       "                sublinear_tf=False, token_pattern='(?u)\\\\b\\\\w\\\\w+\\\\b',\n",
       "                tokenizer=None, use_idf=True, vocabulary=None)"
      ]
     },
     "execution_count": 3,
     "metadata": {},
     "output_type": "execute_result"
    }
   ],
   "source": [
    "tfdif = TfidfVectorizer()\n",
    "tfdif.fit(X_train['clean_text'])"
   ]
  },
  {
   "cell_type": "code",
   "execution_count": 4,
   "metadata": {},
   "outputs": [],
   "source": [
    "X_train_tfidf = tfdif.transform(X_train['clean_text'])\n",
    "X_test_tfidf = tfdif.transform(X_test['clean_text'])"
   ]
  },
  {
   "cell_type": "code",
   "execution_count": 5,
   "metadata": {},
   "outputs": [],
   "source": [
    "y_train = y_train.values.ravel()\n",
    "y_test = y_test.values.ravel()"
   ]
  },
  {
   "cell_type": "code",
   "execution_count": 6,
   "metadata": {},
   "outputs": [],
   "source": [
    "from xgboost import XGBClassifier"
   ]
  },
  {
   "cell_type": "code",
   "execution_count": 9,
   "metadata": {},
   "outputs": [],
   "source": [
    "xgb = XGBClassifier()"
   ]
  },
  {
   "cell_type": "code",
   "execution_count": 10,
   "metadata": {},
   "outputs": [],
   "source": [
    "model = xgb.fit(X_train_tfidf,y_train)"
   ]
  },
  {
   "cell_type": "code",
   "execution_count": 15,
   "metadata": {},
   "outputs": [
    {
     "data": {
      "text/plain": [
       "XGBClassifier(base_score=0.5, booster='gbtree', colsample_bylevel=1,\n",
       "              colsample_bynode=1, colsample_bytree=1, gamma=0, gpu_id=-1,\n",
       "              importance_type='gain', interaction_constraints='',\n",
       "              learning_rate=0.300000012, max_delta_step=0, max_depth=6,\n",
       "              min_child_weight=1, missing=nan, monotone_constraints='()',\n",
       "              n_estimators=100, n_jobs=0, num_parallel_tree=1,\n",
       "              objective='binary:logistic', random_state=0, reg_alpha=0,\n",
       "              reg_lambda=1, scale_pos_weight=1, subsample=1,\n",
       "              tree_method='exact', validate_parameters=1, verbosity=None)"
      ]
     },
     "execution_count": 15,
     "metadata": {},
     "output_type": "execute_result"
    }
   ],
   "source": [
    "model"
   ]
  },
  {
   "cell_type": "code",
   "execution_count": 11,
   "metadata": {},
   "outputs": [
    {
     "name": "stdout",
     "output_type": "stream",
     "text": [
      "Precision: 0.9831932773109243, Recall: 0.823943661971831, Accuracy: 0.9757847533632287\n"
     ]
    }
   ],
   "source": [
    "ypred = model.predict(X_test_tfidf)\n",
    "precision = precision_score(y_test,ypred)\n",
    "recall = recall_score(y_test,ypred)\n",
    "accuracy = accuracy_score(y_test,ypred)\n",
    "print(f\"Precision: {precision}, Recall: {recall}, Accuracy: {accuracy}\")"
   ]
  },
  {
   "cell_type": "code",
   "execution_count": 12,
   "metadata": {},
   "outputs": [],
   "source": [
    "from sklearn.model_selection import GridSearchCV,RandomizedSearchCV\n",
    "XGBClassifier()"
   ]
  },
  {
   "cell_type": "code",
   "execution_count": 29,
   "metadata": {},
   "outputs": [],
   "source": [
    "params = {\n",
    "    'n_estimators':range(50,500,50),\n",
    "    #'max_depth':range(8,21,2),\n",
    "    'learning_rate':[0.001,0.01,0.1,0.2,0.002,0.02,0.5],\n",
    "    'colsample_bytree': np.linspace(0.1,1,10),\n",
    "    'colsample_bynode': np.linspace(0.1,1,10),\n",
    "    'colsample_bylevel': np.linspace(0.1,1,10),\n",
    "    'subsample': np.linspace(0.1,1,10)\n",
    "}"
   ]
  },
  {
   "cell_type": "code",
   "execution_count": 30,
   "metadata": {},
   "outputs": [
    {
     "data": {
      "text/plain": [
       "array([0.1, 0.2, 0.3, 0.4, 0.5, 0.6, 0.7, 0.8, 0.9, 1. ])"
      ]
     },
     "execution_count": 30,
     "metadata": {},
     "output_type": "execute_result"
    }
   ],
   "source": [
    "np.linspace(0.1,1,10)"
   ]
  },
  {
   "cell_type": "code",
   "execution_count": 31,
   "metadata": {},
   "outputs": [],
   "source": [
    "XbgCls = XGBClassifier()\n",
    "randxgb = RandomizedSearchCV(XbgCls,params,\n",
    "    n_iter=10,\n",
    "    n_jobs=-1,\n",
    "    iid='warn',\n",
    "    refit=True,\n",
    "    cv=5,\n",
    "    verbose=2)"
   ]
  },
  {
   "cell_type": "code",
   "execution_count": 32,
   "metadata": {},
   "outputs": [
    {
     "name": "stdout",
     "output_type": "stream",
     "text": [
      "Fitting 5 folds for each of 10 candidates, totalling 50 fits\n"
     ]
    },
    {
     "name": "stderr",
     "output_type": "stream",
     "text": [
      "[Parallel(n_jobs=-1)]: Using backend LokyBackend with 4 concurrent workers.\n",
      "[Parallel(n_jobs=-1)]: Done  33 tasks      | elapsed:   43.2s\n",
      "[Parallel(n_jobs=-1)]: Done  50 out of  50 | elapsed:   59.4s finished\n"
     ]
    }
   ],
   "source": [
    "randxg = randxgb.fit(X_train_tfidf,y_train)"
   ]
  },
  {
   "cell_type": "code",
   "execution_count": 34,
   "metadata": {},
   "outputs": [
    {
     "data": {
      "text/plain": [
       "{'subsample': 0.9,\n",
       " 'n_estimators': 250,\n",
       " 'max_depth': 18,\n",
       " 'learning_rate': 0.2,\n",
       " 'colsample_bytree': 0.30000000000000004,\n",
       " 'colsample_bynode': 0.2,\n",
       " 'colsample_bylevel': 1.0}"
      ]
     },
     "execution_count": 34,
     "metadata": {},
     "output_type": "execute_result"
    }
   ],
   "source": [
    "randxg.best_params_"
   ]
  },
  {
   "cell_type": "code",
   "execution_count": 35,
   "metadata": {},
   "outputs": [
    {
     "name": "stdout",
     "output_type": "stream",
     "text": [
      "Precision: 1.0, Recall: 0.8098591549295775, Accuracy: 0.9757847533632287\n"
     ]
    }
   ],
   "source": [
    "XbgCls_1 = XGBClassifier(**{'subsample': 0.9,\n",
    " 'n_estimators': 250,\n",
    " 'max_depth': 18,\n",
    " 'learning_rate': 0.2,\n",
    " 'colsample_bytree': 0.30000000000000004,\n",
    " 'colsample_bynode': 0.2,\n",
    " 'colsample_bylevel': 1.0})\n",
    "model_1 = XbgCls_1.fit(X_train_tfidf,y_train)\n",
    "ypred = model_1.predict(X_test_tfidf)\n",
    "precision = precision_score(y_test,ypred)\n",
    "recall = recall_score(y_test,ypred)\n",
    "accuracy = accuracy_score(y_test,ypred)\n",
    "print(f\"Precision: {precision}, Recall: {recall}, Accuracy: {accuracy}\")"
   ]
  },
  {
   "cell_type": "code",
   "execution_count": 48,
   "metadata": {},
   "outputs": [],
   "source": [
    "params = {\n",
    "    'n_estimators':range(200,300,25),\n",
    "    #'max_depth':range(8,21,2),\n",
    "    'learning_rate':[0.001,0.01,0.1,0.2,0.002,0.02,0.5],\n",
    "    'colsample_bytree': np.linspace(0.1,1,10)[:4],\n",
    "    'colsample_bynode': np.linspace(0.1,1,10)[:4],\n",
    "    'colsample_bylevel': np.linspace(0.1,1,10)[6:],\n",
    "    'subsample': np.linspace(0.1,1,10)[6:]\n",
    "}"
   ]
  },
  {
   "cell_type": "code",
   "execution_count": 49,
   "metadata": {},
   "outputs": [
    {
     "name": "stdout",
     "output_type": "stream",
     "text": [
      "Fitting 5 folds for each of 10 candidates, totalling 50 fits\n"
     ]
    },
    {
     "name": "stderr",
     "output_type": "stream",
     "text": [
      "[Parallel(n_jobs=-1)]: Using backend LokyBackend with 4 concurrent workers.\n",
      "[Parallel(n_jobs=-1)]: Done  33 tasks      | elapsed:   15.9s\n",
      "[Parallel(n_jobs=-1)]: Done  50 out of  50 | elapsed:   20.9s finished\n"
     ]
    },
    {
     "data": {
      "text/plain": [
       "{'subsample': 1.0,\n",
       " 'n_estimators': 250,\n",
       " 'learning_rate': 0.1,\n",
       " 'colsample_bytree': 0.2,\n",
       " 'colsample_bynode': 0.1,\n",
       " 'colsample_bylevel': 0.7000000000000001}"
      ]
     },
     "execution_count": 49,
     "metadata": {},
     "output_type": "execute_result"
    }
   ],
   "source": [
    "xgbclass = XGBClassifier()\n",
    "grid = RandomizedSearchCV(xgbclass,params,\n",
    "    n_iter=10,\n",
    "    n_jobs=-1,\n",
    "    cv=5,\n",
    "    verbose=2)\n",
    "gridModel = grid.fit(X_train_tfidf,y_train)\n",
    "gridModel.best_params_"
   ]
  },
  {
   "cell_type": "code",
   "execution_count": 50,
   "metadata": {},
   "outputs": [
    {
     "name": "stdout",
     "output_type": "stream",
     "text": [
      "Precision: 1.0, Recall: 0.8098591549295775, Accuracy: 0.9757847533632287\n"
     ]
    }
   ],
   "source": [
    "XbgCls_1 = XGBClassifier(**{'subsample': 1.0,\n",
    " 'n_estimators': 250,\n",
    " 'learning_rate': 0.1,\n",
    " 'colsample_bytree': 0.2,\n",
    " 'colsample_bynode': 0.1,\n",
    " 'colsample_bylevel': 0.7000000000000001})\n",
    "model_1 = XbgCls_1.fit(X_train_tfidf,y_train)\n",
    "ypred = model_1.predict(X_test_tfidf)\n",
    "precision = precision_score(y_test,ypred)\n",
    "recall = recall_score(y_test,ypred)\n",
    "accuracy = accuracy_score(y_test,ypred)\n",
    "print(f\"Precision: {precision}, Recall: {recall}, Accuracy: {accuracy}\")"
   ]
  },
  {
   "cell_type": "code",
   "execution_count": 53,
   "metadata": {},
   "outputs": [],
   "source": [
    "params = {\n",
    "    'n_estimators':range(200,300,50),\n",
    "    #'max_depth':range(8,21,2),\n",
    "    'learning_rate':[0.001,0.01,0.1,0.2,0.002,0.02],\n",
    "    'colsample_bytree': [0.1,0.2,0.3],\n",
    "    'colsample_bynode': [0.1,0.2,0.3],\n",
    "    'colsample_bylevel': [0.1,0.2,0.3],\n",
    "    'subsample': [0.8,0.9,1]\n",
    "}"
   ]
  },
  {
   "cell_type": "code",
   "execution_count": 54,
   "metadata": {},
   "outputs": [
    {
     "name": "stdout",
     "output_type": "stream",
     "text": [
      "Fitting 5 folds for each of 972 candidates, totalling 4860 fits\n"
     ]
    },
    {
     "name": "stderr",
     "output_type": "stream",
     "text": [
      "[Parallel(n_jobs=-1)]: Using backend LokyBackend with 4 concurrent workers.\n",
      "[Parallel(n_jobs=-1)]: Done  33 tasks      | elapsed:    4.7s\n",
      "[Parallel(n_jobs=-1)]: Done 154 tasks      | elapsed:   23.9s\n",
      "[Parallel(n_jobs=-1)]: Done 357 tasks      | elapsed:   59.2s\n",
      "[Parallel(n_jobs=-1)]: Done 640 tasks      | elapsed:  1.8min\n",
      "[Parallel(n_jobs=-1)]: Done 1005 tasks      | elapsed:  2.9min\n",
      "[Parallel(n_jobs=-1)]: Done 1450 tasks      | elapsed:  4.3min\n",
      "[Parallel(n_jobs=-1)]: Done 1977 tasks      | elapsed:  5.9min\n",
      "[Parallel(n_jobs=-1)]: Done 2584 tasks      | elapsed:  8.0min\n",
      "[Parallel(n_jobs=-1)]: Done 3273 tasks      | elapsed: 10.5min\n",
      "[Parallel(n_jobs=-1)]: Done 4042 tasks      | elapsed: 13.2min\n",
      "[Parallel(n_jobs=-1)]: Done 4860 out of 4860 | elapsed: 16.5min finished\n"
     ]
    },
    {
     "data": {
      "text/plain": [
       "{'colsample_bylevel': 0.1,\n",
       " 'colsample_bynode': 0.3,\n",
       " 'colsample_bytree': 0.3,\n",
       " 'learning_rate': 0.2,\n",
       " 'n_estimators': 250,\n",
       " 'subsample': 1}"
      ]
     },
     "execution_count": 54,
     "metadata": {},
     "output_type": "execute_result"
    }
   ],
   "source": [
    "xgbclass = XGBClassifier()\n",
    "grid = GridSearchCV(xgbclass,params,\n",
    "    n_jobs=-1,\n",
    "    cv=5,\n",
    "    verbose=2)\n",
    "gridModel = grid.fit(X_train_tfidf,y_train)\n",
    "gridModel.best_params_"
   ]
  },
  {
   "cell_type": "markdown",
   "metadata": {},
   "source": [
    "#### Final Model"
   ]
  },
  {
   "cell_type": "code",
   "execution_count": 63,
   "metadata": {},
   "outputs": [
    {
     "name": "stdout",
     "output_type": "stream",
     "text": [
      "Precision: 1.0, Recall: 0.823943661971831, Accuracy: 0.9775784753363229\n"
     ]
    }
   ],
   "source": [
    "XbgCls_1 = XGBClassifier(**{'colsample_bylevel': 0.7,\n",
    " 'colsample_bynode': 0.2,\n",
    " 'colsample_bytree': 0.3,\n",
    " 'learning_rate': 0.1,\n",
    " 'n_estimators': 250,\n",
    " 'subsample': 1})\n",
    "model_1 = XbgCls_1.fit(X_train_tfidf,y_train)\n",
    "ypred = model_1.predict(X_test_tfidf)\n",
    "precision = precision_score(y_test,ypred)\n",
    "recall = recall_score(y_test,ypred)\n",
    "accuracy = accuracy_score(y_test,ypred)\n",
    "print(f\"Precision: {precision}, Recall: {recall}, Accuracy: {accuracy}\")"
   ]
  },
  {
   "cell_type": "code",
   "execution_count": 66,
   "metadata": {},
   "outputs": [
    {
     "name": "stdout",
     "output_type": "stream",
     "text": [
      "Accuracy: 97.76%\n"
     ]
    },
    {
     "data": {
      "image/png": "[encoded data removed]",
      "text/plain": [
       "<Figure size 432x288 with 1 Axes>"
      ]
     },
     "metadata": {
      "needs_background": "light"
     },
     "output_type": "display_data"
    }
   ],
   "source": [
    "model = XGBClassifier(**{'colsample_bylevel': 0.7,\n",
    " 'colsample_bynode': 0.2,\n",
    " 'colsample_bytree': 0.3,\n",
    " 'learning_rate': 0.1,\n",
    " 'n_estimators': 250,\n",
    " 'subsample': 1})\n",
    "eval_set = [(X_train_tfidf, y_train), (X_test_tfidf, y_test)]\n",
    "model.fit(X_train_tfidf, y_train, eval_metric=[\"error\", \"logloss\"], eval_set=eval_set, verbose= 0)\n",
    "\n",
    "predictions = model.predict(X_test_tfidf)\n",
    "accuracy = accuracy_score(y_test, predictions)\n",
    "print(\"Accuracy: %.2f%%\" % (accuracy * 100.0))\n",
    "\n",
    "results = model.evals_result()\n",
    "epochs = len(results['validation_0']['error'])\n",
    "x_axis = range(0, epochs)\n",
    "\n",
    "# plot log loss\n",
    "fig, ax = plt.subplots()\n",
    "ax.plot(x_axis, results['validation_0']['logloss'], label='Train')\n",
    "ax.plot(x_axis, results['validation_1']['logloss'], label='Test')\n",
    "ax.legend()\n",
    "plt.ylabel('Log Loss')\n",
    "plt.title('XGBoost Log Loss')\n",
    "plt.show()"
   ]
  },
  {
   "cell_type": "code",
   "execution_count": null,
   "metadata": {},
   "outputs": [],
   "source": []
  }
 ],
 "metadata": {
  "kernelspec": {
   "display_name": "Python 3.7.4 64-bit ('base': conda)",
   "language": "python",
   "name": "python37464bitbasecondaa573941c101e496e993423501ebafa10"
  },
  "language_info": {
   "codemirror_mode": {
    "name": "ipython",
    "version": 3
   },
   "file_extension": ".py",
   "mimetype": "text/x-python",
   "name": "python",
   "nbconvert_exporter": "python",
   "pygments_lexer": "ipython3",
   "version": "3.7.4"
  }
 },
 "nbformat": 4,
 "nbformat_minor": 2
}
